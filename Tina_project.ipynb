{
 "cells": [
  {
   "cell_type": "code",
   "execution_count": 2,
   "id": "bd4d87ed-9f2b-4bc6-9b04-2fd2291438c2",
   "metadata": {},
   "outputs": [],
   "source": [
    "import pandas as pd"
   ]
  },
  {
   "cell_type": "code",
   "execution_count": 3,
   "id": "fee96719-6e67-4d07-b2ff-e4b0ac37f8e4",
   "metadata": {},
   "outputs": [],
   "source": [
    "df_entropy=pd.read_csv('240501_01_entropy-values.csv')"
   ]
  },
  {
   "cell_type": "code",
   "execution_count": 4,
   "id": "589de1e0-b3aa-4c5a-a71c-6d3fc95ab690",
   "metadata": {},
   "outputs": [],
   "source": [
    "df_zscore=pd.read_csv('240603_01_mtx_motif_zscore.csv')\n"
   ]
  },
  {
   "cell_type": "code",
   "execution_count": 5,
   "id": "78f39eb4-fde3-4800-8eb1-1acbeba3351b",
   "metadata": {},
   "outputs": [],
   "source": [
    "df_zscore_T=df_zscore.T"
   ]
  },
  {
   "cell_type": "code",
   "execution_count": 6,
   "id": "904a159b-a1a1-46f3-aa4d-83caa430f73a",
   "metadata": {},
   "outputs": [],
   "source": [
    "df_zscore_T.to_csv('Transposed_240603_01_mtx_motif_zscore.csv')"
   ]
  },
  {
   "cell_type": "code",
   "execution_count": 22,
   "id": "7acd156e-7c58-4375-b412-a56c6086d508",
   "metadata": {},
   "outputs": [],
   "source": [
    "df_zscore=pd.read_csv('Transposed_240603_01_mtx_motif_zscore.csv',skiprows=1)"
   ]
  },
  {
   "cell_type": "code",
   "execution_count": 23,
   "id": "8cab118c-f06d-46e6-b0ba-8b3e76d11dbc",
   "metadata": {},
   "outputs": [
    {
     "data": {
      "text/html": [
       "<div>\n",
       "<style scoped>\n",
       "    .dataframe tbody tr th:only-of-type {\n",
       "        vertical-align: middle;\n",
       "    }\n",
       "\n",
       "    .dataframe tbody tr th {\n",
       "        vertical-align: top;\n",
       "    }\n",
       "\n",
       "    .dataframe thead th {\n",
       "        text-align: right;\n",
       "    }\n",
       "</style>\n",
       "<table border=\"1\" class=\"dataframe\">\n",
       "  <thead>\n",
       "    <tr style=\"text-align: right;\">\n",
       "      <th></th>\n",
       "      <th>Unnamed: 0</th>\n",
       "      <th>TFAP2B_1</th>\n",
       "      <th>TFAP2D_2</th>\n",
       "      <th>TFAP2C_3</th>\n",
       "      <th>TFAP2E_4</th>\n",
       "      <th>TFAP2A_5</th>\n",
       "      <th>ARID3A_6</th>\n",
       "      <th>ARID5B_7</th>\n",
       "      <th>ARID3B_8</th>\n",
       "      <th>ARID5A_9</th>\n",
       "      <th>...</th>\n",
       "      <th>PBX4_861</th>\n",
       "      <th>NKX62_862</th>\n",
       "      <th>HOXA4_863</th>\n",
       "      <th>CR8477943_864</th>\n",
       "      <th>RORB_865</th>\n",
       "      <th>SMAD5_866</th>\n",
       "      <th>SMAD9_867</th>\n",
       "      <th>SOX6_868</th>\n",
       "      <th>TBX18_869</th>\n",
       "      <th>TBX22_870</th>\n",
       "    </tr>\n",
       "  </thead>\n",
       "  <tbody>\n",
       "    <tr>\n",
       "      <th>0</th>\n",
       "      <td>yr16#GACCCAGAGTATGGGC-33</td>\n",
       "      <td>1.019641</td>\n",
       "      <td>-1.777042</td>\n",
       "      <td>0.51921</td>\n",
       "      <td>-0.340985</td>\n",
       "      <td>-0.362082</td>\n",
       "      <td>-3.809538</td>\n",
       "      <td>-0.102178</td>\n",
       "      <td>-3.713878</td>\n",
       "      <td>-1.08062</td>\n",
       "      <td>...</td>\n",
       "      <td>-0.627563</td>\n",
       "      <td>-2.87957</td>\n",
       "      <td>-3.468713</td>\n",
       "      <td>-2.849375</td>\n",
       "      <td>-2.142815</td>\n",
       "      <td>0.187144</td>\n",
       "      <td>0.344119</td>\n",
       "      <td>-1.842402</td>\n",
       "      <td>0.653322</td>\n",
       "      <td>0.653322</td>\n",
       "    </tr>\n",
       "  </tbody>\n",
       "</table>\n",
       "<p>1 rows × 871 columns</p>\n",
       "</div>"
      ],
      "text/plain": [
       "                 Unnamed: 0  TFAP2B_1  TFAP2D_2  TFAP2C_3  TFAP2E_4  TFAP2A_5  \\\n",
       "0  yr16#GACCCAGAGTATGGGC-33  1.019641 -1.777042   0.51921 -0.340985 -0.362082   \n",
       "\n",
       "   ARID3A_6  ARID5B_7  ARID3B_8  ARID5A_9  ...  PBX4_861  NKX62_862  \\\n",
       "0 -3.809538 -0.102178 -3.713878  -1.08062  ... -0.627563   -2.87957   \n",
       "\n",
       "   HOXA4_863  CR8477943_864  RORB_865  SMAD5_866  SMAD9_867  SOX6_868  \\\n",
       "0  -3.468713      -2.849375 -2.142815   0.187144   0.344119 -1.842402   \n",
       "\n",
       "   TBX18_869  TBX22_870  \n",
       "0   0.653322   0.653322  \n",
       "\n",
       "[1 rows x 871 columns]"
      ]
     },
     "execution_count": 23,
     "metadata": {},
     "output_type": "execute_result"
    }
   ],
   "source": [
    "df_zscore.head(1)"
   ]
  },
  {
   "cell_type": "code",
   "execution_count": 24,
   "id": "9b57f88c-2d6d-4a3f-bce0-62a3581755d9",
   "metadata": {},
   "outputs": [],
   "source": [
    "column_names = df_zscore.columns.tolist()"
   ]
  },
  {
   "cell_type": "code",
   "execution_count": 25,
   "id": "5b217ad4-aefd-4295-b008-d702c4d00e18",
   "metadata": {},
   "outputs": [],
   "source": [
    "from sklearn.feature_selection import mutual_info_regression"
   ]
  },
  {
   "cell_type": "code",
   "execution_count": 26,
   "id": "65bc08ce-82b7-4f75-aaff-e371e3d13923",
   "metadata": {},
   "outputs": [],
   "source": [
    "mutual_info_list=[]"
   ]
  },
  {
   "cell_type": "code",
   "execution_count": 27,
   "id": "8f328ca7-e7c1-4065-8e5d-4ff7e7149695",
   "metadata": {},
   "outputs": [],
   "source": [
    "for i in range(1,len(column_names)):\n",
    "    entropy_values =df_entropy['entropy'].values.reshape(-1,1)\n",
    "    tfap2b_values=df_zscore[column_names[i]].values.reshape(-1,1)\n",
    "    tfap2b_values = tfap2b_values.ravel()\n",
    "    mutual_info = mutual_info_regression(entropy_values, tfap2b_values)[0]\n",
    "    mutual_info_list.append((column_names[i] , mutual_info))"
   ]
  },
  {
   "cell_type": "code",
   "execution_count": 28,
   "id": "6fb04549-8ab1-43f5-b426-5c8dd51c7fbf",
   "metadata": {},
   "outputs": [],
   "source": [
    "sorted_list = sorted(mutual_info_list, key=lambda x: x[1], reverse=True)"
   ]
  },
  {
   "cell_type": "code",
   "execution_count": 32,
   "id": "e84a7907-009e-4726-a0b9-48a7307e908f",
   "metadata": {},
   "outputs": [],
   "source": [
    "#sorted_list"
   ]
  },
  {
   "cell_type": "code",
   "execution_count": 31,
   "id": "163f1582-85ec-4893-a82c-4cc22d6a25f7",
   "metadata": {},
   "outputs": [],
   "source": [
    "import csv\n",
    "with open ('final_result.csv','w') as f:\n",
    "    write=csv.writer(f)\n",
    "    write.writerows(sorted_list)"
   ]
  },
  {
   "cell_type": "code",
   "execution_count": null,
   "id": "d102c982-a8dc-4344-8a88-a01d67f776ac",
   "metadata": {},
   "outputs": [],
   "source": []
  }
 ],
 "metadata": {
  "kernelspec": {
   "display_name": "Python 3 (ipykernel)",
   "language": "python",
   "name": "python3"
  },
  "language_info": {
   "codemirror_mode": {
    "name": "ipython",
    "version": 3
   },
   "file_extension": ".py",
   "mimetype": "text/x-python",
   "name": "python",
   "nbconvert_exporter": "python",
   "pygments_lexer": "ipython3",
   "version": "3.10.12"
  }
 },
 "nbformat": 4,
 "nbformat_minor": 5
}
